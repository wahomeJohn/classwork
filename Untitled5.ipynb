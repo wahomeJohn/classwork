{
  "nbformat": 4,
  "nbformat_minor": 0,
  "metadata": {
    "colab": {
      "name": "Untitled5.ipynb",
      "provenance": [],
      "authorship_tag": "ABX9TyMMrgz+0TkM3RrcpSJ47gO2",
      "include_colab_link": true
    },
    "kernelspec": {
      "name": "python3",
      "display_name": "Python 3"
    },
    "language_info": {
      "name": "python"
    }
  },
  "cells": [
    {
      "cell_type": "markdown",
      "metadata": {
        "id": "view-in-github",
        "colab_type": "text"
      },
      "source": [
        "<a href=\"https://colab.research.google.com/github/wahomeJohn/classwork/blob/master/Untitled5.ipynb\" target=\"_parent\"><img src=\"https://colab.research.google.com/assets/colab-badge.svg\" alt=\"Open In Colab\"/></a>"
      ]
    },
    {
      "cell_type": "code",
      "metadata": {
        "colab": {
          "base_uri": "https://localhost:8080/"
        },
        "id": "h7oCMKPX66w0",
        "outputId": "0b1106da-81dc-4bb7-a087-2c11e46baadf"
      },
      "source": [
        "pip install pyqt5\n"
      ],
      "execution_count": 1,
      "outputs": [
        {
          "output_type": "stream",
          "text": [
            "Requirement already satisfied: pyqt5 in /usr/local/lib/python3.7/dist-packages (5.15.4)\n",
            "Requirement already satisfied: PyQt5-sip<13,>=12.8 in /usr/local/lib/python3.7/dist-packages (from pyqt5) (12.8.1)\n",
            "Requirement already satisfied: PyQt5-Qt5>=5.15 in /usr/local/lib/python3.7/dist-packages (from pyqt5) (5.15.2)\n"
          ],
          "name": "stdout"
        }
      ]
    },
    {
      "cell_type": "code",
      "metadata": {
        "id": "kcmm8HHA7YhD"
      },
      "source": [
        "from PyQt5.QtWidgets import QMainWindow, QApplication\n",
        "import sys\n",
        "class Window(QMainWindow):\n",
        "    def __init__(self):\n",
        "        super().__init__()\n",
        "        self.title =\"PyQt5 Window\"\n",
        "        self.top = 100\n",
        "        self.left = 100\n",
        "        self.width = 400\n",
        "        self.height = 300\n",
        "\n",
        "        self.Initwindow()\n",
        "\n",
        "    def Initwindow(self):\n",
        "        self.setWindowTitle(self.title)\n",
        "        self.setGeometry(self.left, self.top, self.width, self.height)\n",
        "\n",
        "        self.show()\n",
        "\n",
        "App = QApplication(sys.argv)\n",
        "window = Window()\n",
        "sys.exit(App.exec())"
      ],
      "execution_count": null,
      "outputs": []
    },
    {
      "cell_type": "code",
      "metadata": {
        "id": "6nd4YMqUTm7q"
      },
      "source": [
        "from PyQt5.QtWidgets import QApplication, QPushButton, QDialog\n",
        "import sys\n",
        "from PyQt5 import QtGui\n",
        "from PyQt5.QtCore import QRect\n",
        "from PyQt5 import QtCore\n",
        "class Window(QDialog):\n",
        "    def __init__(self):\n",
        "        super.__init__()\n",
        "        self.title = \"Pyqt5 management\"\n",
        "        self.left = 500\n",
        "        self.top = 200\n",
        "        self.width = 400\n",
        "        self.height = 100\n",
        "        self.iconName = \"home.png\"\n",
        "\n",
        "        self.InitWindow()\n",
        "\n",
        "    def InitWindow(self):\n",
        "        self.setWindowTitle(self.title)\n",
        "        self.setWindowIcon(QtGui.QIcon(self.iconName))\n",
        "        self.setGeometry(self.left, self.top, self.width, self.height)\n",
        "\n",
        "        self.show()\n",
        "\n",
        "if __name__ == \"__main__\":\n",
        "    App = QApplication(sys.argv)\n",
        "    window = Window()\n",
        "    sys.exit(App.exec())\n"
      ],
      "execution_count": null,
      "outputs": []
    }
  ]
}